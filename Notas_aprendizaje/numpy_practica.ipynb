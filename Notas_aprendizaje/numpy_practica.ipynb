{
 "cells": [
  {
   "cell_type": "markdown",
   "id": "e526fadd",
   "metadata": {},
   "source": [
    "# Practica numpy ndarray\n",
    "1. Crear ndarrays\n",
    "2. Operar entre columnas\n",
    "3. Seleccionar elementos  \n"
   ]
  },
  {
   "cell_type": "markdown",
   "id": "867325f3",
   "metadata": {},
   "source": [
    "# Punto 1"
   ]
  },
  {
   "cell_type": "code",
   "execution_count": 14,
   "id": "ed631ad4",
   "metadata": {},
   "outputs": [],
   "source": [
    "#importar numpy\n",
    "import numpy as np "
   ]
  },
  {
   "cell_type": "code",
   "execution_count": 8,
   "id": "c2e4d7c7",
   "metadata": {},
   "outputs": [
    {
     "data": {
      "text/plain": [
       "[2, 3, 5, 7, 11, 13, 17, 19, 23, 29]"
      ]
     },
     "execution_count": 8,
     "metadata": {},
     "output_type": "execute_result"
    }
   ],
   "source": [
    "#Crear lista con numeros primos \n",
    "numeros_primos =[2,3,5,7,11,13,17,19,23,29]\n",
    "numeros_primos"
   ]
  },
  {
   "cell_type": "code",
   "execution_count": 9,
   "id": "96a1fad5",
   "metadata": {},
   "outputs": [
    {
     "data": {
      "text/plain": [
       "array([ 2,  3,  5,  7, 11, 13, 17, 19, 23, 29])"
      ]
     },
     "execution_count": 9,
     "metadata": {},
     "output_type": "execute_result"
    }
   ],
   "source": [
    "#Crear arrau a partir de lista \n",
    "array_primos=np.array(numeros_primos)\n",
    "array_primos"
   ]
  },
  {
   "cell_type": "code",
   "execution_count": 11,
   "id": "8a893f96",
   "metadata": {},
   "outputs": [
    {
     "data": {
      "text/plain": [
       "array([0., 0., 0., 0., 0., 0., 0., 0., 0., 0.])"
      ]
     },
     "execution_count": 11,
     "metadata": {},
     "output_type": "execute_result"
    }
   ],
   "source": [
    "#Crear arrays con ceros o como  inicializar un arreglo array\n",
    "array_zeros=np.zeros(10)\n",
    "array_zeros"
   ]
  },
  {
   "cell_type": "code",
   "execution_count": 12,
   "id": "cf45bfe3",
   "metadata": {},
   "outputs": [
    {
     "data": {
      "text/plain": [
       "array([0, 1, 2, 3, 4, 5, 6, 7, 8, 9])"
      ]
     },
     "execution_count": 12,
     "metadata": {},
     "output_type": "execute_result"
    }
   ],
   "source": [
    "#Crear arrays con numeros \n",
    "array_numeros = np.arange(10)\n",
    "array_numeros"
   ]
  },
  {
   "cell_type": "code",
   "execution_count": 13,
   "id": "60994d22",
   "metadata": {},
   "outputs": [
    {
     "data": {
      "text/plain": [
       "array([ 0,  2,  4,  6,  8, 10, 12, 14, 16, 18])"
      ]
     },
     "execution_count": 13,
     "metadata": {},
     "output_type": "execute_result"
    }
   ],
   "source": [
    "#array con numeros sucesivos (numero inicial, numero final, intervalo)\n",
    "array_pares = np.arange(0, 20, 2)\n",
    "array_pares"
   ]
  },
  {
   "cell_type": "code",
   "execution_count": 15,
   "id": "4e908d0d",
   "metadata": {},
   "outputs": [
    {
     "data": {
      "text/plain": [
       "array([[ 0,  2,  4,  6,  8],\n",
       "       [10, 12, 14, 16, 18]])"
      ]
     },
     "execution_count": 15,
     "metadata": {},
     "output_type": "execute_result"
    }
   ],
   "source": [
    "#haciendo un reshape ára dos dimensiones\n",
    "array_pares.reshape(2,5)\n"
   ]
  },
  {
   "cell_type": "markdown",
   "id": "aa2faa6b",
   "metadata": {},
   "source": [
    "# Punto 2"
   ]
  },
  {
   "cell_type": "code",
   "execution_count": 16,
   "id": "98eb16cc",
   "metadata": {},
   "outputs": [
    {
     "data": {
      "text/plain": [
       "array([ 1,  3,  5,  7,  9, 11, 13, 15, 17, 19])"
      ]
     },
     "execution_count": 16,
     "metadata": {},
     "output_type": "execute_result"
    }
   ],
   "source": [
    "# Operaciones aritmerticas sobre np array 1-dimension y 2-dimension\n",
    "array_impares =  array_pares + 1\n",
    "array_impares"
   ]
  },
  {
   "cell_type": "code",
   "execution_count": 17,
   "id": "1c6f741b",
   "metadata": {},
   "outputs": [
    {
     "data": {
      "text/plain": [
       "array([ 100,  300,  500,  700,  900, 1100, 1300, 1500, 1700, 1900])"
      ]
     },
     "execution_count": 17,
     "metadata": {},
     "output_type": "execute_result"
    }
   ],
   "source": [
    "# multiplicar por 100\n",
    "array_impares*100"
   ]
  },
  {
   "cell_type": "code",
   "execution_count": 18,
   "id": "f16ecea6",
   "metadata": {},
   "outputs": [
    {
     "data": {
      "text/plain": [
       "array([1, 1, 1, 1, 1, 1, 1, 1, 1, 1])"
      ]
     },
     "execution_count": 18,
     "metadata": {},
     "output_type": "execute_result"
    }
   ],
   "source": [
    "# resta entre arrays\n",
    "array_impares - array_pares"
   ]
  },
  {
   "cell_type": "code",
   "execution_count": null,
   "id": "f60f69bc",
   "metadata": {},
   "outputs": [
    {
     "name": "stderr",
     "output_type": "stream",
     "text": [
      "C:\\Users\\USER\\AppData\\Local\\Temp\\ipykernel_8548\\3745958443.py:2: RuntimeWarning: divide by zero encountered in divide\n",
      "  array_impares/array_pares\n"
     ]
    },
    {
     "data": {
      "text/plain": [
       "array([       inf, 1.5       , 1.25      , 1.16666667, 1.125     ,\n",
       "       1.1       , 1.08333333, 1.07142857, 1.0625    , 1.05555556])"
      ]
     },
     "execution_count": 19,
     "metadata": {},
     "output_type": "execute_result"
    }
   ],
   "source": [
    "#cuidado con la dicision entre 0 \n",
    "array_impares/array_pares\n",
    "# cuando se divide entre cero python toma como resultado el inf"
   ]
  },
  {
   "cell_type": "code",
   "execution_count": 20,
   "id": "4649a71f",
   "metadata": {},
   "outputs": [
    {
     "data": {
      "text/plain": [
       "np.int64(129)"
      ]
     },
     "execution_count": 20,
     "metadata": {},
     "output_type": "execute_result"
    }
   ],
   "source": [
    "# Metodos asociados a estadistica \n",
    "# suma \n",
    "array_primos.sum()"
   ]
  },
  {
   "cell_type": "code",
   "execution_count": 21,
   "id": "7fbf129f",
   "metadata": {},
   "outputs": [
    {
     "data": {
      "text/plain": [
       "np.float64(12.9)"
      ]
     },
     "execution_count": 21,
     "metadata": {},
     "output_type": "execute_result"
    }
   ],
   "source": [
    "# promedio \n",
    "array_primos.mean()"
   ]
  },
  {
   "cell_type": "code",
   "execution_count": 22,
   "id": "de98fea9",
   "metadata": {},
   "outputs": [
    {
     "data": {
      "text/plain": [
       "np.float64(73.28999999999999)"
      ]
     },
     "execution_count": 22,
     "metadata": {},
     "output_type": "execute_result"
    }
   ],
   "source": [
    "# varianza\n",
    "array_primos.var()"
   ]
  },
  {
   "cell_type": "code",
   "execution_count": 23,
   "id": "49c0435d",
   "metadata": {},
   "outputs": [
    {
     "data": {
      "text/plain": [
       "array([ 55,   0, 144,   1,  21,  89,   5,   8,  13,   1,  34,   3,   2])"
      ]
     },
     "execution_count": 23,
     "metadata": {},
     "output_type": "execute_result"
    }
   ],
   "source": [
    "# como ordenar un np array  (fibonacci)\n",
    "array_fibonacci =  np.array([55, 0, 144, 1,21,89,5,8,13,1,34,3,2])\n",
    "array_fibonacci"
   ]
  },
  {
   "cell_type": "code",
   "execution_count": 24,
   "id": "af7ddd0b",
   "metadata": {},
   "outputs": [
    {
     "data": {
      "text/plain": [
       "array([  0,   1,   1,   2,   3,   5,   8,  13,  21,  34,  55,  89, 144])"
      ]
     },
     "execution_count": 24,
     "metadata": {},
     "output_type": "execute_result"
    }
   ],
   "source": [
    "# orden ascendente: de menor a mayor\n",
    "np.sort(array_fibonacci)"
   ]
  },
  {
   "cell_type": "code",
   "execution_count": 25,
   "id": "999a4c82",
   "metadata": {},
   "outputs": [
    {
     "data": {
      "text/plain": [
       "array([144,  89,  55,  34,  21,  13,   8,   5,   3,   2,   1,   1,   0])"
      ]
     },
     "execution_count": 25,
     "metadata": {},
     "output_type": "execute_result"
    }
   ],
   "source": [
    "# orden descendente: de mayor a menor\n",
    "-np.sort(-array_fibonacci)"
   ]
  },
  {
   "cell_type": "markdown",
   "id": "50612913",
   "metadata": {},
   "source": [
    "# Punto 3"
   ]
  },
  {
   "cell_type": "code",
   "execution_count": null,
   "id": "71153264",
   "metadata": {},
   "outputs": [],
   "source": [
    "# Como seleccionar elements"
   ]
  },
  {
   "cell_type": "code",
   "execution_count": null,
   "id": "5c67296b",
   "metadata": {},
   "outputs": [],
   "source": [
    "#Seleccionar un elemento"
   ]
  },
  {
   "cell_type": "code",
   "execution_count": 27,
   "id": "9b0debf2",
   "metadata": {},
   "outputs": [
    {
     "data": {
      "text/plain": [
       "array([[ 0,  2,  4,  6,  8],\n",
       "       [10, 12, 14, 16, 18]])"
      ]
     },
     "execution_count": 27,
     "metadata": {},
     "output_type": "execute_result"
    }
   ],
   "source": [
    "A = np.arange(0,20,2).reshape(2,5)\n",
    "A"
   ]
  },
  {
   "cell_type": "code",
   "execution_count": 28,
   "id": "2aba7753",
   "metadata": {},
   "outputs": [
    {
     "data": {
      "text/plain": [
       "np.int64(0)"
      ]
     },
     "execution_count": 28,
     "metadata": {},
     "output_type": "execute_result"
    }
   ],
   "source": [
    "# seleccionar el primer elemento \n",
    "A[0,0]"
   ]
  },
  {
   "cell_type": "code",
   "execution_count": 29,
   "id": "0b1e6cba",
   "metadata": {},
   "outputs": [
    {
     "data": {
      "text/plain": [
       "np.int64(16)"
      ]
     },
     "execution_count": 29,
     "metadata": {},
     "output_type": "execute_result"
    }
   ],
   "source": [
    "# seleccionar algún otro elemento \n",
    "A[1,3]"
   ]
  },
  {
   "cell_type": "code",
   "execution_count": null,
   "id": "cd9c5bdf",
   "metadata": {},
   "outputs": [
    {
     "data": {
      "text/plain": [
       "array([10, 12, 14, 16, 18])"
      ]
     },
     "execution_count": 30,
     "metadata": {},
     "output_type": "execute_result"
    }
   ],
   "source": [
    "# Seleccionar varios elementos\n",
    "# seleccionar por filas\n",
    "A[1,:]"
   ]
  },
  {
   "cell_type": "code",
   "execution_count": 31,
   "id": "a77d6a1f",
   "metadata": {},
   "outputs": [
    {
     "data": {
      "text/plain": [
       "array([ 6, 16])"
      ]
     },
     "execution_count": 31,
     "metadata": {},
     "output_type": "execute_result"
    }
   ],
   "source": [
    "# seleccionar por columna\n",
    "A[:,3]"
   ]
  },
  {
   "cell_type": "code",
   "execution_count": 33,
   "id": "3aca2d7a",
   "metadata": {},
   "outputs": [
    {
     "data": {
      "text/plain": [
       "array([ 55,   0, 144,   1,  21,  89,   5,   8,  13,   1,  34,   3,   2])"
      ]
     },
     "execution_count": 33,
     "metadata": {},
     "output_type": "execute_result"
    }
   ],
   "source": [
    "# Utilizar filter\n",
    "array_fibonacci"
   ]
  },
  {
   "cell_type": "code",
   "execution_count": null,
   "id": "32e0e960",
   "metadata": {},
   "outputs": [
    {
     "data": {
      "text/plain": [
       "array([False,  True, False,  True, False, False,  True,  True,  True,\n",
       "        True, False,  True,  True])"
      ]
     },
     "execution_count": 32,
     "metadata": {},
     "output_type": "execute_result"
    }
   ],
   "source": [
    "\n",
    "# condicion para menores de 20\n",
    "array_fibonacci < 20"
   ]
  },
  {
   "cell_type": "code",
   "execution_count": 34,
   "id": "5743ba96",
   "metadata": {},
   "outputs": [
    {
     "data": {
      "text/plain": [
       "array([ 0,  1,  5,  8, 13,  1,  3,  2])"
      ]
     },
     "execution_count": 34,
     "metadata": {},
     "output_type": "execute_result"
    }
   ],
   "source": [
    "# filtar menores de 20\n",
    "array_fibonacci[array_fibonacci < 20]"
   ]
  }
 ],
 "metadata": {
  "kernelspec": {
   "display_name": "base",
   "language": "python",
   "name": "python3"
  },
  "language_info": {
   "codemirror_mode": {
    "name": "ipython",
    "version": 3
   },
   "file_extension": ".py",
   "mimetype": "text/x-python",
   "name": "python",
   "nbconvert_exporter": "python",
   "pygments_lexer": "ipython3",
   "version": "3.13.5"
  }
 },
 "nbformat": 4,
 "nbformat_minor": 5
}
