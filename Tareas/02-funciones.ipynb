{
 "cells": [
  {
   "cell_type": "markdown",
   "id": "9aa1d5ce",
   "metadata": {},
   "source": [
    "# Tarea\n",
    "Composicion de Funciones"
   ]
  },
  {
   "cell_type": "markdown",
   "id": "3412f974",
   "metadata": {},
   "source": [
    "### $$ |x| =\\sqrt{x^2}$$\n",
    "### $$ f(x) = x^2$$\n",
    "### $$ g(x)=\\sqrt{x}$$"
   ]
  },
  {
   "cell_type": "code",
   "execution_count": 1,
   "id": "bd4b96fb",
   "metadata": {},
   "outputs": [
    {
     "name": "stdout",
     "output_type": "stream",
     "text": [
      "10.0\n",
      "3.0\n"
     ]
    }
   ],
   "source": [
    "import math\n",
    "\n",
    "def f(x):\n",
    "    return x**2\n",
    "\n",
    "def g(x):\n",
    "    return math.sqrt(x)\n",
    "\n",
    "def valor_abs(x):\n",
    "    return g(f(x))\n",
    "\n",
    "\n",
    "#EJEMPLOS\n",
    "print(valor_abs(-10))\n",
    "print(valor_abs(3))\n"
   ]
  }
 ],
 "metadata": {
  "kernelspec": {
   "display_name": "base",
   "language": "python",
   "name": "python3"
  },
  "language_info": {
   "codemirror_mode": {
    "name": "ipython",
    "version": 3
   },
   "file_extension": ".py",
   "mimetype": "text/x-python",
   "name": "python",
   "nbconvert_exporter": "python",
   "pygments_lexer": "ipython3",
   "version": "3.13.5"
  }
 },
 "nbformat": 4,
 "nbformat_minor": 5
}
