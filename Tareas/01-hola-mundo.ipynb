{
 "cells": [
  {
   "cell_type": "markdown",
   "id": "f9a03e65",
   "metadata": {},
   "source": [
    "# Primer Progama"
   ]
  },
  {
   "cell_type": "markdown",
   "id": "57e01ed7",
   "metadata": {},
   "source": [
    "TAREA Hello World"
   ]
  },
  {
   "cell_type": "code",
   "execution_count": 11,
   "id": "5718e83e",
   "metadata": {},
   "outputs": [
    {
     "name": "stdout",
     "output_type": "stream",
     "text": [
      "Hello World\n"
     ]
    }
   ],
   "source": [
    "print('Hello World')"
   ]
  },
  {
   "cell_type": "code",
   "execution_count": 12,
   "id": "975dc7f6",
   "metadata": {},
   "outputs": [
    {
     "name": "stdout",
     "output_type": "stream",
     "text": [
      "el valor de d es: 8.0\n",
      "El nuevo valor de a es 6.0\n"
     ]
    }
   ],
   "source": [
    "a = 3.0\n",
    "b = 6.0\n",
    "c = 4.0\n",
    "d = 0.0\n",
    "d = b / a *c\n",
    "a = d + c - b\n",
    "print(f\"el valor de d es: {d}\")\n",
    "print(f\"El nuevo valor de a es {a}\")"
   ]
  }
 ],
 "metadata": {
  "kernelspec": {
   "display_name": "base",
   "language": "python",
   "name": "python3"
  },
  "language_info": {
   "codemirror_mode": {
    "name": "ipython",
    "version": 3
   },
   "file_extension": ".py",
   "mimetype": "text/x-python",
   "name": "python",
   "nbconvert_exporter": "python",
   "pygments_lexer": "ipython3",
   "version": "3.13.5"
  }
 },
 "nbformat": 4,
 "nbformat_minor": 5
}
