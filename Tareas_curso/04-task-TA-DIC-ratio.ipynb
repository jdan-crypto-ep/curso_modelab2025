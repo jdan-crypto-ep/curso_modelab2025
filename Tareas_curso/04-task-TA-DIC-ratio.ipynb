{
 "cells": [
  {
   "cell_type": "markdown",
   "id": "905994b5",
   "metadata": {},
   "source": [
    "# Importar Base de Datos"
   ]
  },
  {
   "cell_type": "code",
   "execution_count": 1,
   "id": "20ab37c2",
   "metadata": {},
   "outputs": [],
   "source": [
    "import pandas as pd"
   ]
  },
  {
   "cell_type": "code",
   "execution_count": 2,
   "id": "4a9f7093",
   "metadata": {},
   "outputs": [],
   "source": [
    "def import_csv(file):\n",
    "    return pd.read_csv(file)"
   ]
  },
  {
   "cell_type": "code",
   "execution_count": 3,
   "id": "685de8fb",
   "metadata": {},
   "outputs": [],
   "source": [
    "path = \"../data/Terminos_lagoon_TA_DIC_2023_RawData.csv\""
   ]
  },
  {
   "cell_type": "code",
   "execution_count": 7,
   "id": "137219c9",
   "metadata": {},
   "outputs": [
    {
     "name": "stdout",
     "output_type": "stream",
     "text": [
      "Index(['sample', 'date', 'estuary', 'area', 'station', 'layer_depth', 'season',\n",
      "       'chlorophy_microg_l', 'cond_microsiemens_cm', 'depth_m',\n",
      "       'do_percent_sat', 'do_mg_l', 'sal_psu', 'sp_cond_microsiemens_cm',\n",
      "       'turbidity_fnu', 'temp_c', 'latitude', 'longitude', 'dic_micromol_kg',\n",
      "       'ta_micromol_kg', 'dummy_data'],\n",
      "      dtype='object')\n"
     ]
    }
   ],
   "source": [
    "data = import_csv(path)\n",
    "print(data.columns)\n"
   ]
  },
  {
   "cell_type": "markdown",
   "id": "1de49ed2",
   "metadata": {},
   "source": [
    "## Excersice\n",
    "-Create a new column called \"TA_DIC_ratio\" that is the ratio of TA to DIC\n",
    "\n",
    "-Calculate the mean and standard deviation of the \"TA_DIC_ratio\" for each season\n",
    "\n",
    "-Calculate the mean and standard deviation of the \"TA_DIC_ratio\" for each season and area\n",
    "\n",
    "-Save the results to an Excel file called \"TA_DIC_Season_Areas.xlsx\""
   ]
  },
  {
   "cell_type": "code",
   "execution_count": 11,
   "id": "7b8d518a",
   "metadata": {},
   "outputs": [
    {
     "data": {
      "application/vnd.microsoft.datawrangler.viewer.v0+json": {
       "columns": [
        {
         "name": "index",
         "rawType": "int64",
         "type": "integer"
        },
        {
         "name": "TA_DIC_ratio",
         "rawType": "float64",
         "type": "float"
        }
       ],
       "ref": "3b317f02-70f4-4ebd-8808-def09fd435e1",
       "rows": [
        [
         "0",
         "0.9867177522349936"
        ],
        [
         "1",
         "0.9964845862628448"
        ],
        [
         "2",
         "0.9957035445757251"
        ],
        [
         "3",
         "1.0886283065175892"
        ],
        [
         "4",
         "1.032445355191257"
        ],
        [
         "5",
         "1.0352470930232558"
        ],
        [
         "6",
         "1.0583832335329342"
        ],
        [
         "7",
         "1.0784538844240337"
        ],
        [
         "8",
         "1.0663650075414781"
        ],
        [
         "9",
         "1.0644677661169415"
        ],
        [
         "10",
         "1.0716112531969308"
        ],
        [
         "11",
         "1.0747344461305008"
        ],
        [
         "12",
         "1.0662607449856734"
        ],
        [
         "13",
         "1.0868143843080276"
        ],
        [
         "14",
         "1.0909839440098805"
        ],
        [
         "15",
         "1.0813338755591704"
        ],
        [
         "16",
         "1.0737738143494122"
        ],
        [
         "17",
         "1.0845986984815619"
        ],
        [
         "18",
         "0.9638009049773756"
        ],
        [
         "19",
         "0.96345116836429"
        ],
        [
         "20",
         "0.9454065159964778"
        ],
        [
         "21",
         "1.000310366232154"
        ],
        [
         "22",
         "0.9764150943396226"
        ],
        [
         "23",
         "0.9772296015180265"
        ],
        [
         "24",
         "0.9849081364829396"
        ],
        [
         "25",
         "1.01762554040572"
        ],
        [
         "26",
         "1.0682999257609502"
        ],
        [
         "27",
         "0.9989350372736954"
        ],
        [
         "28",
         "1.0318352059925093"
        ],
        [
         "29",
         "1.0586972083035076"
        ],
        [
         "30",
         "1.0418728587742672"
        ],
        [
         "31",
         "1.381022979985174"
        ],
        [
         "32",
         "1.0331050228310503"
        ],
        [
         "33",
         "1.382262996941896"
        ],
        [
         "34",
         "1.053578568572571"
        ],
        [
         "35",
         "1.4584"
        ],
        [
         "36",
         "0.962474645030426"
        ],
        [
         "37",
         "0.9581787521079258"
        ],
        [
         "38",
         "0.9645868465430016"
        ],
        [
         "39",
         "0.963673057517659"
        ],
        [
         "40",
         "0.9893196202531646"
        ],
        [
         "41",
         "1.034365719134493"
        ],
        [
         "42",
         "1.0564263322884013"
        ],
        [
         "43",
         "1.0340715502555367"
        ],
        [
         "44",
         "1.0482474226804124"
        ],
        [
         "45",
         "1.0464813205907906"
        ],
        [
         "46",
         "1.02287166454892"
        ],
        [
         "47",
         "1.0346746575342465"
        ],
        [
         "48",
         "1.0848593121929433"
        ],
        [
         "49",
         "1.0682019486271037"
        ]
       ],
       "shape": {
        "columns": 1,
        "rows": 106
       }
      },
      "text/plain": [
       "0      0.986718\n",
       "1      0.996485\n",
       "2      0.995704\n",
       "3      1.088628\n",
       "4      1.032445\n",
       "         ...   \n",
       "101    1.050092\n",
       "102    1.075436\n",
       "103    1.095475\n",
       "104    1.076392\n",
       "105    1.093627\n",
       "Name: TA_DIC_ratio, Length: 106, dtype: float64"
      ]
     },
     "execution_count": 11,
     "metadata": {},
     "output_type": "execute_result"
    }
   ],
   "source": [
    "# Nueva columna\n",
    "data['TA_DIC_ratio'] = data['ta_micromol_kg']/data['dic_micromol_kg']\n",
    "data['TA_DIC_ratio']"
   ]
  },
  {
   "cell_type": "code",
   "execution_count": 12,
   "id": "ea5833d1",
   "metadata": {},
   "outputs": [
    {
     "name": "stdout",
     "output_type": "stream",
     "text": [
      "            mean       std\n",
      "season                    \n",
      "Dry     1.058558  0.086111\n",
      "Rainy   1.022350  0.100924\n"
     ]
    }
   ],
   "source": [
    "# Media y desviasion estándar\n",
    "res_season = data.groupby('season')['TA_DIC_ratio'].agg(['mean', 'std'])\n",
    "print(res_season)"
   ]
  },
  {
   "cell_type": "code",
   "execution_count": 13,
   "id": "a6047a6b",
   "metadata": {},
   "outputs": [
    {
     "name": "stdout",
     "output_type": "stream",
     "text": [
      "                  mean       std\n",
      "season area                     \n",
      "Dry    Coast  1.115766  0.115033\n",
      "       Plume  1.059687  0.035574\n",
      "       River  1.000221  0.037747\n",
      "Rainy  Coast  1.090127  0.129658\n",
      "       Plume  1.025544  0.049222\n",
      "       River  0.945217  0.025084\n"
     ]
    }
   ],
   "source": [
    "# Media y desviacion estándar por estación y área\n",
    "res_season_area = data.groupby(['season', 'area'])['TA_DIC_ratio'].agg(['mean', 'std'])\n",
    "print(res_season_area)\n"
   ]
  },
  {
   "cell_type": "code",
   "execution_count": 15,
   "id": "7377f91d",
   "metadata": {},
   "outputs": [],
   "source": [
    "# Exportar a Excel con 2 pestañas\n",
    "with pd.ExcelWriter('TA_DIC_Season_Areas.xlsx') as writer:\n",
    "    res_season.to_excel(writer, sheet_name='Por Season')\n",
    "    res_season_area.to_excel(writer, sheet_name='Por Season y Area')\n"
   ]
  }
 ],
 "metadata": {
  "kernelspec": {
   "display_name": "base",
   "language": "python",
   "name": "python3"
  },
  "language_info": {
   "codemirror_mode": {
    "name": "ipython",
    "version": 3
   },
   "file_extension": ".py",
   "mimetype": "text/x-python",
   "name": "python",
   "nbconvert_exporter": "python",
   "pygments_lexer": "ipython3",
   "version": "3.13.5"
  }
 },
 "nbformat": 4,
 "nbformat_minor": 5
}
