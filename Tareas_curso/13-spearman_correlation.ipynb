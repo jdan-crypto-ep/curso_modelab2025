{
 "cells": [
  {
   "cell_type": "markdown",
   "id": "4b05af84",
   "metadata": {},
   "source": [
    "# Spearman's Correlation"
   ]
  },
  {
   "cell_type": "code",
   "execution_count": 6,
   "id": "3df56417",
   "metadata": {},
   "outputs": [],
   "source": [
    "import pandas as pd\n",
    "from scipy.stats import pearsonr\n",
    "\n",
    "\n",
    "def import_csv(file):\n",
    "    return pd.read_csv(file)\n",
    "\n",
    "path = \"../data/Terminos_lagoon_TA_DIC_2023_RawData.csv\"\n",
    "\n",
    "data = import_csv(path)"
   ]
  },
  {
   "cell_type": "code",
   "execution_count": 7,
   "id": "7b6954c6",
   "metadata": {},
   "outputs": [],
   "source": [
    "def pearson_corr(df, col_x, col_y):\n",
    "    coef, pval = pearsonr(df[col_x], df[col_y])\n",
    "    print(f\"Pearson correlation between '{col_x}' y '{col_y}':\")\n",
    "    print(f\"Coefficient r = {coef:.4f}\")\n",
    "    print(f\"p-value = {pval:.4e}\")\n",
    "    \n",
    "    if pval < 0.05:\n",
    "        print(\"The correlation is statistically significant (p < 0.05)\")\n",
    "    else:\n",
    "        print(\"The correlation is NOT statistically significant (p >= 0.05)\")\n",
    "    \n",
    "    return coef, pval\n"
   ]
  },
  {
   "cell_type": "code",
   "execution_count": 8,
   "id": "e95f34cb",
   "metadata": {},
   "outputs": [
    {
     "name": "stdout",
     "output_type": "stream",
     "text": [
      "Pearson correlation between 'dic_micromol_kg' y 'sal_psu':\n",
      "Coefficient r = -0.5719\n",
      "p-value = 1.5144e-10\n",
      "The correlation is statistically significant (p < 0.05)\n"
     ]
    }
   ],
   "source": [
    "coef, pval = pearson_corr(data, 'dic_micromol_kg', 'sal_psu')\n"
   ]
  }
 ],
 "metadata": {
  "kernelspec": {
   "display_name": "base",
   "language": "python",
   "name": "python3"
  },
  "language_info": {
   "codemirror_mode": {
    "name": "ipython",
    "version": 3
   },
   "file_extension": ".py",
   "mimetype": "text/x-python",
   "name": "python",
   "nbconvert_exporter": "python",
   "pygments_lexer": "ipython3",
   "version": "3.13.5"
  }
 },
 "nbformat": 4,
 "nbformat_minor": 5
}
