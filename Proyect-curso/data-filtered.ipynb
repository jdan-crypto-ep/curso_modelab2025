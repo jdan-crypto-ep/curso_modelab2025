{
 "cells": [
  {
   "cell_type": "markdown",
   "id": "0bfedb01",
   "metadata": {},
   "source": [
    "# DATA FLITERED"
   ]
  },
  {
   "cell_type": "code",
   "execution_count": 14,
   "id": "27203096",
   "metadata": {},
   "outputs": [],
   "source": [
    "import pandas as pd\n",
    "from datetime import datetime"
   ]
  },
  {
   "cell_type": "code",
   "execution_count": 6,
   "id": "e489c0b4",
   "metadata": {},
   "outputs": [
    {
     "name": "stdout",
     "output_type": "stream",
     "text": [
      "Top 10 estaciones con más datos de OZONO:\n",
      "   ESTACION  conteo_total\n",
      "14      IZT           361\n",
      "18      MGH           357\n",
      "5       CCA           354\n",
      "22      PED           352\n",
      "1       AJU           348\n",
      "27      TLI           347\n",
      "0       AJM           344\n",
      "7       CUA           341\n",
      "29      UIZ           341\n",
      "17      MER           340\n",
      "\n",
      "Desglose mensual (días con datos de OZONO por estación):\n",
      "MES_ANIO  2024-01  2024-02  2024-03  2024-04  2024-05  2024-06  2024-07  \\\n",
      "ESTACION                                                                  \n",
      "AJM            31       27       29       30       25       28       28   \n",
      "AJU            28       28       29       28       29       27       30   \n",
      "CCA            31       27       30       28       30       27       31   \n",
      "CUA            28       27       31       30       31       29       31   \n",
      "IZT            31       28       31       30       26       30       31   \n",
      "MER            31       26       30       30       24       30       31   \n",
      "MGH            28       29       31       30       31       30       31   \n",
      "PED            31       27       29       30       29       29       29   \n",
      "TLI            25       26       31       20       31       29       31   \n",
      "UIZ            31       29       30       27       29       28       21   \n",
      "\n",
      "MES_ANIO  2024-08  2024-09  2024-10  2024-11  2024-12  2025-01  \n",
      "ESTACION                                                        \n",
      "AJM            28       30       31       30       26        1  \n",
      "AJU            31       28       30       30       29        1  \n",
      "CCA            31       30       31       28       29        1  \n",
      "CUA            26       30       26       25       26        1  \n",
      "IZT            31       30       31       30       31        1  \n",
      "MER            31       29       30       23       25        0  \n",
      "MGH            30       25       31       29       31        1  \n",
      "PED            26       30       31       29       31        1  \n",
      "TLI            31       30       31       30       31        1  \n",
      "UIZ            28       30       31       25       31        1  \n"
     ]
    }
   ],
   "source": [
    "# Cargar los datos\n",
    "df = pd.read_csv('ozono_maximo_diario.csv')\n",
    "\n",
    "# Convertir FECHA correctamente\n",
    "df['FECHA'] = pd.to_datetime(df['FECHA'], format='ISO8601')  # Detecta automáticamente formatos ISO como '2024-01-01'\n",
    "\n",
    "# O también puedes simplemente hacer (pandas lo infiere bien en muchos casos):\n",
    "# df['FECHA'] = pd.to_datetime(df['FECHA'])  # Sin especificar formato\n",
    "\n",
    "# Luego sigue igual...\n",
    "df['MES_ANIO'] = df['FECHA'].dt.to_period('M')\n",
    "\n",
    "df_ozono_valido = df[df['OZONO'].notna()]\n",
    "\n",
    "datos_por_estacion = df_ozono_valido.groupby('ESTACION').size().reset_index(name='conteo_total')\n",
    "top_10_estaciones = datos_por_estacion.nlargest(10, 'conteo_total')\n",
    "\n",
    "print(\"Top 10 estaciones con más datos de OZONO:\")\n",
    "print(top_10_estaciones)\n",
    "\n",
    "df_top_10 = df_ozono_valido[df_ozono_valido['ESTACION'].isin(top_10_estaciones['ESTACION'])]\n",
    "\n",
    "desglose_mensual = df_top_10.groupby(['ESTACION', 'MES_ANIO']).size().reset_index(name='dias_con_datos')\n",
    "\n",
    "tabla_desglose = desglose_mensual.pivot(index='ESTACION', columns='MES_ANIO', values='dias_con_datos').fillna(0).astype(int)\n",
    "\n",
    "print(\"\\nDesglose mensual (días con datos de OZONO por estación):\")\n",
    "print(tabla_desglose)"
   ]
  },
  {
   "cell_type": "code",
   "execution_count": null,
   "id": "1a9d7b18",
   "metadata": {},
   "outputs": [
    {
     "name": "stdout",
     "output_type": "stream",
     "text": [
      "✅ Archivo guardado como 'ozono_filtrado_categorizado.csv'\n",
      "Estaciones y categorías asignadas correctamente.\n"
     ]
    }
   ],
   "source": [
    "# Cargar el archivo CSV\n",
    "df = pd.read_csv('ozono_maximo_diario.csv')\n",
    "\n",
    "# Convertir FECHA a datetime (opcional, pero recomendado)\n",
    "df['FECHA'] = pd.to_datetime(df['FECHA'], format='ISO8601')\n",
    "\n",
    "# Lista de estaciones que deseas conservar\n",
    "estaciones_deseadas = ['MPA', 'AJU', 'AJM', 'CUT', 'TLI', 'GAM', 'IZT', 'CCA', 'HGM']\n",
    "\n",
    "# Filtrar solo esas estaciones\n",
    "df_filtrado = df[df['ESTACION'].isin(estaciones_deseadas)].copy()\n",
    "\n",
    "# Definir mapeo de categorías\n",
    "mapeo_categoria = {\n",
    "    'MPA': 'RURAL',\n",
    "    'AJU': 'RURAL',\n",
    "    'CUT': 'SUBURBANO',\n",
    "    'TLI': 'SUBURBANO',\n",
    "    'AJM': 'RURAL',\n",
    "    'GAM': 'URBANO',\n",
    "    'IZT': 'URBANO',\n",
    "    'CCA': 'URBANO',\n",
    "    'HGM': 'URBANO'\n",
    "}\n",
    "\n",
    "# Crear la nueva columna 'CATEGORIA'\n",
    "df_filtrado['CATEGORIA'] = df_filtrado['ESTACION'].map(mapeo_categoria)\n",
    "\n",
    "# Guardar en un nuevo archivo CSV\n",
    "df_filtrado.to_csv('ozono_filtrado_categorizado.csv', index=False)\n",
    "\n",
    "print(\"✅ Archivo guardado como 'ozono_filtrado_categorizado.csv'\")\n",
    "print(\"Estaciones y categorías asignadas correctamente.\")"
   ]
  }
 ],
 "metadata": {
  "kernelspec": {
   "display_name": "base",
   "language": "python",
   "name": "python3"
  },
  "language_info": {
   "codemirror_mode": {
    "name": "ipython",
    "version": 3
   },
   "file_extension": ".py",
   "mimetype": "text/x-python",
   "name": "python",
   "nbconvert_exporter": "python",
   "pygments_lexer": "ipython3",
   "version": "3.13.5"
  }
 },
 "nbformat": 4,
 "nbformat_minor": 5
}
